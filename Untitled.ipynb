{
 "cells": [
  {
   "cell_type": "code",
   "execution_count": 3,
   "metadata": {},
   "outputs": [
    {
     "data": {
      "text/plain": [
       "['myprogram2.py',\n",
       " 'casey.py',\n",
       " 'myfunction.py',\n",
       " 'Untitled.ipynb',\n",
       " 'script4.py',\n",
       " 'script5.py',\n",
       " 'script6.py',\n",
       " 'README.md',\n",
       " 'myprogram.py',\n",
       " '.gitignore',\n",
       " 'script7.py',\n",
       " 'c_to_f.py',\n",
       " 'example.txt',\n",
       " '.ipynb_checkpoints',\n",
       " 'errors.py',\n",
       " 'test3',\n",
       " 'conditional.py',\n",
       " '.git',\n",
       " 'app1']"
      ]
     },
     "execution_count": 3,
     "metadata": {},
     "output_type": "execute_result"
    }
   ],
   "source": [
    "import os\n",
    "os.listdir()\n"
   ]
  },
  {
   "cell_type": "code",
   "execution_count": 4,
   "metadata": {},
   "outputs": [],
   "source": [
    "import pandas"
   ]
  },
  {
   "cell_type": "code",
   "execution_count": null,
   "metadata": {},
   "outputs": [],
   "source": []
  },
  {
   "cell_type": "code",
   "execution_count": null,
   "metadata": {},
   "outputs": [],
   "source": []
  }
 ],
 "metadata": {
  "kernelspec": {
   "display_name": "Python 3",
   "language": "python",
   "name": "python3"
  },
  "language_info": {
   "codemirror_mode": {
    "name": "ipython",
    "version": 3
   },
   "file_extension": ".py",
   "mimetype": "text/x-python",
   "name": "python",
   "nbconvert_exporter": "python",
   "pygments_lexer": "ipython3",
   "version": "3.6.4"
  }
 },
 "nbformat": 4,
 "nbformat_minor": 2
}
